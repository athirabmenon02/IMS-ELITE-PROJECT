{
  "nbformat": 4,
  "nbformat_minor": 0,
  "metadata": {
    "colab": {
      "name": "IMS ELITE .ipynb",
      "provenance": [],
      "collapsed_sections": []
    },
    "kernelspec": {
      "name": "python3",
      "display_name": "Python 3"
    },
    "language_info": {
      "name": "python"
    }
  },
  "cells": [
    {
      "cell_type": "code",
      "metadata": {
        "id": "g3SF1xpg0bJE"
      },
      "source": [
        " #reading the already existing items\n",
        "fd=open(\"Record.json\",'r')\n",
        "rec=fd.read()\n",
        "fd.close()\n",
        "\n",
        "\n"
      ],
      "execution_count": 39,
      "outputs": []
    },
    {
      "cell_type": "code",
      "metadata": {
        "id": "QVaHcCEG1neJ"
      },
      "source": [
        "# saving it to the variable Record as a string\n",
        "import json\n",
        "Record= json.loads(rec)\n"
      ],
      "execution_count": null,
      "outputs": []
    },
    {
      "cell_type": "code",
      "metadata": {
        "colab": {
          "base_uri": "https://localhost:8080/"
        },
        "id": "caT9BxCl1tZs",
        "outputId": "6a4a716e-849e-42f2-cf80-e1ce6c609167"
      },
      "source": [
        "Record"
      ],
      "execution_count": null,
      "outputs": [
        {
          "output_type": "execute_result",
          "data": {
            "text/plain": [
              "{'1001': {'Category': 'Biscuit',\n",
              "  'Prodname': 'Goodday',\n",
              "  'Qty': 34,\n",
              "  'Unitprice': 35},\n",
              " '1002': {'Category': 'Soap', 'Prodname': 'Dove', 'Qty': 40, 'Unitprice': 40},\n",
              " '1003': {'Category': 'Grocery',\n",
              "  'Prodname': 'Chilli Powder',\n",
              "  'Qty': 101,\n",
              "  'Unitprice': 18},\n",
              " '1004': {'Category': 'Biscuit',\n",
              "  'Prodname': 'Parle-G',\n",
              "  'Qty': 50,\n",
              "  'Unitprice': 20},\n",
              " '1005': {'Category': 'Fancy Item',\n",
              "  'Prodname': 'Chain',\n",
              "  'Qty': 56,\n",
              "  'Unitprice': 35},\n",
              " '1006': {'Category': 'Notebook',\n",
              "  'Prodname': 'Classmate',\n",
              "  'Qty': 49,\n",
              "  'Unitprice': 45},\n",
              " '1007': {'Category': 'Pen', 'Prodname': 'Cello', 'Qty': 90, 'Unitprice': 7},\n",
              " '1008': {'Category': 'Shampoo',\n",
              "  'Prodname': 'Sunsilk',\n",
              "  'Qty': 56,\n",
              "  'Unitprice': 89},\n",
              " '1009': {'Category': 'Crockery',\n",
              "  'Prodname': 'Plate',\n",
              "  'Qty': 12,\n",
              "  'Unitprice': 120},\n",
              " '1010': {'Category': 'Grocery',\n",
              "  'Prodname': 'Red Label',\n",
              "  'Qty': 67,\n",
              "  'Unitprice': 67},\n",
              " '1011': {'Category': 'Chocolate',\n",
              "  'Prodname': 'Dairy Milk',\n",
              "  'Qty': 89,\n",
              "  'Unitprice': 170},\n",
              " '1012': {'Category': 'Ice cream',\n",
              "  'Prodname': 'Lassa',\n",
              "  'Qty': 145,\n",
              "  'Unitprice': 30},\n",
              " '1013': {'Category': 'Biscuit',\n",
              "  'Prodname': 'Tiger',\n",
              "  'Qty': 56,\n",
              "  'Unitprice': 20},\n",
              " '1014': {'Category': 'Notebook',\n",
              "  'Prodname': 'Papergrid',\n",
              "  'Qty': 200,\n",
              "  'Unitprice': 40},\n",
              " '1015': {'Category': 'Chocolate',\n",
              "  'Prodname': 'Kitkat',\n",
              "  'Qty': 108,\n",
              "  'Unitprice': 45},\n",
              " '1016': {'Category': 'Pencil',\n",
              "  'Prodname': 'Apsara',\n",
              "  'Qty': 96,\n",
              "  'Unitprice': 7},\n",
              " '1017': {'Category': 'Crayons',\n",
              "  'Prodname': 'Camlin',\n",
              "  'Qty': 190,\n",
              "  'Unitprice': 38},\n",
              " '1018': {'Category': 'Bag', 'Prodname': 'Puma', 'Qty': 29, 'Unitprice': 250},\n",
              " '1019': {'Category': 'Watch',\n",
              "  'Prodname': 'Titan',\n",
              "  'Qty': 89,\n",
              "  'Unitprice': 560},\n",
              " '1020': {'Category': 'Grocery',\n",
              "  'Prodname': 'kwiker Oats',\n",
              "  'Qty': 98,\n",
              "  'Unitprice': 140},\n",
              " '1021': {'Category': 'Calculator',\n",
              "  'Prodname': 'Casio',\n",
              "  'Qty': 67,\n",
              "  'Unitprice': 350},\n",
              " '1022': {'Category': 'Grocery',\n",
              "  'Prodname': 'Horlicks',\n",
              "  'Qty': 179,\n",
              "  'Unitprice': 190},\n",
              " '1023': {'Category': 'Grocery',\n",
              "  'Prodname': 'Organic',\n",
              "  'Qty': 260,\n",
              "  'Unitprice': 120},\n",
              " '1024': {'Category': 'Fancy Item',\n",
              "  'Prodname': 'Bangle',\n",
              "  'Qty': 39,\n",
              "  'Unitprice': 12},\n",
              " '1025': {'Category': 'Pen', 'Prodname': 'Totem', 'Qty': 290, 'Unitprice': 9},\n",
              " '1026': {'Category': 'Grocery',\n",
              "  'Prodname': 'Green peas',\n",
              "  'Qty': 67,\n",
              "  'Unitprice': 50},\n",
              " '1027': {'Category': 'Vegetable',\n",
              "  'Prodname': 'Tomato',\n",
              "  'Qty': 23,\n",
              "  'Unitprice': 80},\n",
              " '1028': {'Category': 'Crockery',\n",
              "  'Prodname': 'Utensil',\n",
              "  'Qty': 60,\n",
              "  'Unitprice': 100},\n",
              " '1029': {'Category': 'Vegetable',\n",
              "  'Prodname': 'Cauliflower',\n",
              "  'Qty': 12,\n",
              "  'Unitprice': 59},\n",
              " '1030': {'Category': 'Fruit',\n",
              "  'Prodname': 'Apple',\n",
              "  'Qty': 70,\n",
              "  'Unitprice': 90},\n",
              " '1031': {'Category': 'Watch',\n",
              "  'Prodname': 'Sonata',\n",
              "  'Qty': 28,\n",
              "  'Unitprice': 280}}"
            ]
          },
          "metadata": {},
          "execution_count": 3
        }
      ]
    },
    {
      "cell_type": "markdown",
      "metadata": {
        "id": "AFBK0tl6ktwl"
      },
      "source": [
        "**Adding The Items to Existing Inventory**\n"
      ]
    },
    {
      "cell_type": "code",
      "metadata": {
        "id": "e_tO9agp3fuI",
        "colab": {
          "base_uri": "https://localhost:8080/",
          "height": 527
        },
        "outputId": "b5272bbc-20d5-4f21-c8ae-cbf87baedf60"
      },
      "source": [
        "prod_id=input(\"Enter the ID:\")\n",
        "proname=input(\"Enter the Product:\")\n",
        "Qnty=int(input(\"Enter the Quantity:\"))\n",
        "Ctgry=input(\"Enter the category:\")\n",
        "Price=int(input(\"Enter the Price :\"))\n",
        "for i in Record.keys():\n",
        "    if(prod_id==i):\n",
        "        Record[prod_id]={'Category':Ctgry,'Prodname':proname,'Qty':Record[i][\"Qty\"]+Qnty,'Unitprice':Price}\n",
        "    else:\n",
        "        Record[prod_id]={'Category':Ctgry,'Prodname':proname,'Qty':Qnty,'UnitPrice':Price}\n",
        "\n"
      ],
      "execution_count": null,
      "outputs": [
        {
          "output_type": "error",
          "ename": "KeyboardInterrupt",
          "evalue": "ignored",
          "traceback": [
            "\u001b[0;31m---------------------------------------------------------------------------\u001b[0m",
            "\u001b[0;31mKeyboardInterrupt\u001b[0m                         Traceback (most recent call last)",
            "\u001b[0;32m/usr/local/lib/python3.7/dist-packages/ipykernel/kernelbase.py\u001b[0m in \u001b[0;36m_input_request\u001b[0;34m(self, prompt, ident, parent, password)\u001b[0m\n\u001b[1;32m    728\u001b[0m             \u001b[0;32mtry\u001b[0m\u001b[0;34m:\u001b[0m\u001b[0;34m\u001b[0m\u001b[0;34m\u001b[0m\u001b[0m\n\u001b[0;32m--> 729\u001b[0;31m                 \u001b[0mident\u001b[0m\u001b[0;34m,\u001b[0m \u001b[0mreply\u001b[0m \u001b[0;34m=\u001b[0m \u001b[0mself\u001b[0m\u001b[0;34m.\u001b[0m\u001b[0msession\u001b[0m\u001b[0;34m.\u001b[0m\u001b[0mrecv\u001b[0m\u001b[0;34m(\u001b[0m\u001b[0mself\u001b[0m\u001b[0;34m.\u001b[0m\u001b[0mstdin_socket\u001b[0m\u001b[0;34m,\u001b[0m \u001b[0;36m0\u001b[0m\u001b[0;34m)\u001b[0m\u001b[0;34m\u001b[0m\u001b[0;34m\u001b[0m\u001b[0m\n\u001b[0m\u001b[1;32m    730\u001b[0m             \u001b[0;32mexcept\u001b[0m \u001b[0mException\u001b[0m\u001b[0;34m:\u001b[0m\u001b[0;34m\u001b[0m\u001b[0;34m\u001b[0m\u001b[0m\n",
            "\u001b[0;32m/usr/local/lib/python3.7/dist-packages/jupyter_client/session.py\u001b[0m in \u001b[0;36mrecv\u001b[0;34m(self, socket, mode, content, copy)\u001b[0m\n\u001b[1;32m    802\u001b[0m         \u001b[0;32mtry\u001b[0m\u001b[0;34m:\u001b[0m\u001b[0;34m\u001b[0m\u001b[0;34m\u001b[0m\u001b[0m\n\u001b[0;32m--> 803\u001b[0;31m             \u001b[0mmsg_list\u001b[0m \u001b[0;34m=\u001b[0m \u001b[0msocket\u001b[0m\u001b[0;34m.\u001b[0m\u001b[0mrecv_multipart\u001b[0m\u001b[0;34m(\u001b[0m\u001b[0mmode\u001b[0m\u001b[0;34m,\u001b[0m \u001b[0mcopy\u001b[0m\u001b[0;34m=\u001b[0m\u001b[0mcopy\u001b[0m\u001b[0;34m)\u001b[0m\u001b[0;34m\u001b[0m\u001b[0;34m\u001b[0m\u001b[0m\n\u001b[0m\u001b[1;32m    804\u001b[0m         \u001b[0;32mexcept\u001b[0m \u001b[0mzmq\u001b[0m\u001b[0;34m.\u001b[0m\u001b[0mZMQError\u001b[0m \u001b[0;32mas\u001b[0m \u001b[0me\u001b[0m\u001b[0;34m:\u001b[0m\u001b[0;34m\u001b[0m\u001b[0;34m\u001b[0m\u001b[0m\n",
            "\u001b[0;32m/usr/local/lib/python3.7/dist-packages/zmq/sugar/socket.py\u001b[0m in \u001b[0;36mrecv_multipart\u001b[0;34m(self, flags, copy, track)\u001b[0m\n\u001b[1;32m    618\u001b[0m         \"\"\"\n\u001b[0;32m--> 619\u001b[0;31m         \u001b[0mparts\u001b[0m \u001b[0;34m=\u001b[0m \u001b[0;34m[\u001b[0m\u001b[0mself\u001b[0m\u001b[0;34m.\u001b[0m\u001b[0mrecv\u001b[0m\u001b[0;34m(\u001b[0m\u001b[0mflags\u001b[0m\u001b[0;34m,\u001b[0m \u001b[0mcopy\u001b[0m\u001b[0;34m=\u001b[0m\u001b[0mcopy\u001b[0m\u001b[0;34m,\u001b[0m \u001b[0mtrack\u001b[0m\u001b[0;34m=\u001b[0m\u001b[0mtrack\u001b[0m\u001b[0;34m)\u001b[0m\u001b[0;34m]\u001b[0m\u001b[0;34m\u001b[0m\u001b[0;34m\u001b[0m\u001b[0m\n\u001b[0m\u001b[1;32m    620\u001b[0m         \u001b[0;31m# have first part already, only loop while more to receive\u001b[0m\u001b[0;34m\u001b[0m\u001b[0;34m\u001b[0m\u001b[0;34m\u001b[0m\u001b[0m\n",
            "\u001b[0;32mzmq/backend/cython/socket.pyx\u001b[0m in \u001b[0;36mzmq.backend.cython.socket.Socket.recv\u001b[0;34m()\u001b[0m\n",
            "\u001b[0;32mzmq/backend/cython/socket.pyx\u001b[0m in \u001b[0;36mzmq.backend.cython.socket.Socket.recv\u001b[0;34m()\u001b[0m\n",
            "\u001b[0;32mzmq/backend/cython/socket.pyx\u001b[0m in \u001b[0;36mzmq.backend.cython.socket._recv_copy\u001b[0;34m()\u001b[0m\n",
            "\u001b[0;32m/usr/local/lib/python3.7/dist-packages/zmq/backend/cython/checkrc.pxd\u001b[0m in \u001b[0;36mzmq.backend.cython.checkrc._check_rc\u001b[0;34m()\u001b[0m\n",
            "\u001b[0;31mKeyboardInterrupt\u001b[0m: ",
            "\nDuring handling of the above exception, another exception occurred:\n",
            "\u001b[0;31mKeyboardInterrupt\u001b[0m                         Traceback (most recent call last)",
            "\u001b[0;32m<ipython-input-4-dda024b6030d>\u001b[0m in \u001b[0;36m<module>\u001b[0;34m()\u001b[0m\n\u001b[0;32m----> 1\u001b[0;31m \u001b[0mprod_id\u001b[0m\u001b[0;34m=\u001b[0m\u001b[0minput\u001b[0m\u001b[0;34m(\u001b[0m\u001b[0;34m\"Enter the ID:\"\u001b[0m\u001b[0;34m)\u001b[0m\u001b[0;34m\u001b[0m\u001b[0;34m\u001b[0m\u001b[0m\n\u001b[0m\u001b[1;32m      2\u001b[0m \u001b[0mproname\u001b[0m\u001b[0;34m=\u001b[0m\u001b[0minput\u001b[0m\u001b[0;34m(\u001b[0m\u001b[0;34m\"Enter the Product:\"\u001b[0m\u001b[0;34m)\u001b[0m\u001b[0;34m\u001b[0m\u001b[0;34m\u001b[0m\u001b[0m\n\u001b[1;32m      3\u001b[0m \u001b[0mQnty\u001b[0m\u001b[0;34m=\u001b[0m\u001b[0mint\u001b[0m\u001b[0;34m(\u001b[0m\u001b[0minput\u001b[0m\u001b[0;34m(\u001b[0m\u001b[0;34m\"Enter the Quantity:\"\u001b[0m\u001b[0;34m)\u001b[0m\u001b[0;34m)\u001b[0m\u001b[0;34m\u001b[0m\u001b[0;34m\u001b[0m\u001b[0m\n\u001b[1;32m      4\u001b[0m \u001b[0mCtgry\u001b[0m\u001b[0;34m=\u001b[0m\u001b[0minput\u001b[0m\u001b[0;34m(\u001b[0m\u001b[0;34m\"Enter the category:\"\u001b[0m\u001b[0;34m)\u001b[0m\u001b[0;34m\u001b[0m\u001b[0;34m\u001b[0m\u001b[0m\n\u001b[1;32m      5\u001b[0m \u001b[0mPrice\u001b[0m\u001b[0;34m=\u001b[0m\u001b[0mint\u001b[0m\u001b[0;34m(\u001b[0m\u001b[0minput\u001b[0m\u001b[0;34m(\u001b[0m\u001b[0;34m\"Enter the Price :\"\u001b[0m\u001b[0;34m)\u001b[0m\u001b[0;34m)\u001b[0m\u001b[0;34m\u001b[0m\u001b[0;34m\u001b[0m\u001b[0m\n",
            "\u001b[0;32m/usr/local/lib/python3.7/dist-packages/ipykernel/kernelbase.py\u001b[0m in \u001b[0;36mraw_input\u001b[0;34m(self, prompt)\u001b[0m\n\u001b[1;32m    702\u001b[0m             \u001b[0mself\u001b[0m\u001b[0;34m.\u001b[0m\u001b[0m_parent_ident\u001b[0m\u001b[0;34m,\u001b[0m\u001b[0;34m\u001b[0m\u001b[0;34m\u001b[0m\u001b[0m\n\u001b[1;32m    703\u001b[0m             \u001b[0mself\u001b[0m\u001b[0;34m.\u001b[0m\u001b[0m_parent_header\u001b[0m\u001b[0;34m,\u001b[0m\u001b[0;34m\u001b[0m\u001b[0;34m\u001b[0m\u001b[0m\n\u001b[0;32m--> 704\u001b[0;31m             \u001b[0mpassword\u001b[0m\u001b[0;34m=\u001b[0m\u001b[0;32mFalse\u001b[0m\u001b[0;34m,\u001b[0m\u001b[0;34m\u001b[0m\u001b[0;34m\u001b[0m\u001b[0m\n\u001b[0m\u001b[1;32m    705\u001b[0m         )\n\u001b[1;32m    706\u001b[0m \u001b[0;34m\u001b[0m\u001b[0m\n",
            "\u001b[0;32m/usr/local/lib/python3.7/dist-packages/ipykernel/kernelbase.py\u001b[0m in \u001b[0;36m_input_request\u001b[0;34m(self, prompt, ident, parent, password)\u001b[0m\n\u001b[1;32m    732\u001b[0m             \u001b[0;32mexcept\u001b[0m \u001b[0mKeyboardInterrupt\u001b[0m\u001b[0;34m:\u001b[0m\u001b[0;34m\u001b[0m\u001b[0;34m\u001b[0m\u001b[0m\n\u001b[1;32m    733\u001b[0m                 \u001b[0;31m# re-raise KeyboardInterrupt, to truncate traceback\u001b[0m\u001b[0;34m\u001b[0m\u001b[0;34m\u001b[0m\u001b[0;34m\u001b[0m\u001b[0m\n\u001b[0;32m--> 734\u001b[0;31m                 \u001b[0;32mraise\u001b[0m \u001b[0mKeyboardInterrupt\u001b[0m\u001b[0;34m\u001b[0m\u001b[0;34m\u001b[0m\u001b[0m\n\u001b[0m\u001b[1;32m    735\u001b[0m             \u001b[0;32melse\u001b[0m\u001b[0;34m:\u001b[0m\u001b[0;34m\u001b[0m\u001b[0;34m\u001b[0m\u001b[0m\n\u001b[1;32m    736\u001b[0m                 \u001b[0;32mbreak\u001b[0m\u001b[0;34m\u001b[0m\u001b[0;34m\u001b[0m\u001b[0m\n",
            "\u001b[0;31mKeyboardInterrupt\u001b[0m: "
          ]
        }
      ]
    },
    {
      "cell_type": "code",
      "metadata": {
        "id": "YcmokgNakVvb"
      },
      "source": [
        "js=json.dumps(Record)\n",
        "fd=open(\"Record.json\",'w')\n",
        "fd.write(js)\n",
        "fd.close()"
      ],
      "execution_count": null,
      "outputs": []
    },
    {
      "cell_type": "code",
      "metadata": {
        "id": "oHlKn0F8Rye3",
        "colab": {
          "base_uri": "https://localhost:8080/"
        },
        "outputId": "ca4a4689-9971-452c-f949-79e50a2ec0ad"
      },
      "source": [
        "Record"
      ],
      "execution_count": null,
      "outputs": [
        {
          "output_type": "execute_result",
          "data": {
            "text/plain": [
              "{'1001': {'Category': 'Biscuit',\n",
              "  'Prodname': 'Goodday',\n",
              "  'Qty': 34,\n",
              "  'Unitprice': 35},\n",
              " '1002': {'Category': 'Soap', 'Prodname': 'Dove', 'Qty': 40, 'Unitprice': 40},\n",
              " '1003': {'Category': 'Grocery',\n",
              "  'Prodname': 'Chilli Powder',\n",
              "  'Qty': 101,\n",
              "  'Unitprice': 18},\n",
              " '1004': {'Category': 'Biscuit',\n",
              "  'Prodname': 'Parle-G',\n",
              "  'Qty': 50,\n",
              "  'Unitprice': 20},\n",
              " '1005': {'Category': 'Fancy Item',\n",
              "  'Prodname': 'Chain',\n",
              "  'Qty': 56,\n",
              "  'Unitprice': 35},\n",
              " '1006': {'Category': 'Notebook',\n",
              "  'Prodname': 'Classmate',\n",
              "  'Qty': 49,\n",
              "  'Unitprice': 45},\n",
              " '1007': {'Category': 'Pen', 'Prodname': 'Cello', 'Qty': 90, 'Unitprice': 7},\n",
              " '1008': {'Category': 'Shampoo',\n",
              "  'Prodname': 'Sunsilk',\n",
              "  'Qty': 56,\n",
              "  'Unitprice': 89},\n",
              " '1009': {'Category': 'Crockery',\n",
              "  'Prodname': 'Plate',\n",
              "  'Qty': 12,\n",
              "  'Unitprice': 120},\n",
              " '1010': {'Category': 'Grocery',\n",
              "  'Prodname': 'Red Label',\n",
              "  'Qty': 67,\n",
              "  'Unitprice': 67},\n",
              " '1011': {'Category': 'Chocolate',\n",
              "  'Prodname': 'Dairy Milk',\n",
              "  'Qty': 89,\n",
              "  'Unitprice': 170},\n",
              " '1012': {'Category': 'Ice cream',\n",
              "  'Prodname': 'Lassa',\n",
              "  'Qty': 145,\n",
              "  'Unitprice': 30},\n",
              " '1013': {'Category': 'Biscuit',\n",
              "  'Prodname': 'Tiger',\n",
              "  'Qty': 56,\n",
              "  'Unitprice': 20},\n",
              " '1014': {'Category': 'Notebook',\n",
              "  'Prodname': 'Papergrid',\n",
              "  'Qty': 200,\n",
              "  'Unitprice': 40},\n",
              " '1015': {'Category': 'Chocolate',\n",
              "  'Prodname': 'Kitkat',\n",
              "  'Qty': 108,\n",
              "  'Unitprice': 45},\n",
              " '1016': {'Category': 'Pencil',\n",
              "  'Prodname': 'Apsara',\n",
              "  'Qty': 96,\n",
              "  'Unitprice': 7},\n",
              " '1017': {'Category': 'Crayons',\n",
              "  'Prodname': 'Camlin',\n",
              "  'Qty': 190,\n",
              "  'Unitprice': 38},\n",
              " '1018': {'Category': 'Bag', 'Prodname': 'Puma', 'Qty': 29, 'Unitprice': 250},\n",
              " '1019': {'Category': 'Watch',\n",
              "  'Prodname': 'Titan',\n",
              "  'Qty': 89,\n",
              "  'Unitprice': 560},\n",
              " '1020': {'Category': 'Grocery',\n",
              "  'Prodname': 'kwiker Oats',\n",
              "  'Qty': 98,\n",
              "  'Unitprice': 140},\n",
              " '1021': {'Category': 'Calculator',\n",
              "  'Prodname': 'Casio',\n",
              "  'Qty': 67,\n",
              "  'Unitprice': 350},\n",
              " '1022': {'Category': 'Grocery',\n",
              "  'Prodname': 'Horlicks',\n",
              "  'Qty': 179,\n",
              "  'Unitprice': 190},\n",
              " '1023': {'Category': 'Grocery',\n",
              "  'Prodname': 'Organic',\n",
              "  'Qty': 260,\n",
              "  'Unitprice': 120},\n",
              " '1024': {'Category': 'Fancy Item',\n",
              "  'Prodname': 'Bangle',\n",
              "  'Qty': 39,\n",
              "  'Unitprice': 12},\n",
              " '1025': {'Category': 'Pen', 'Prodname': 'Totem', 'Qty': 290, 'Unitprice': 9},\n",
              " '1026': {'Category': 'Grocery',\n",
              "  'Prodname': 'Green peas',\n",
              "  'Qty': 67,\n",
              "  'Unitprice': 50},\n",
              " '1027': {'Category': 'Vegetable',\n",
              "  'Prodname': 'Tomato',\n",
              "  'Qty': 23,\n",
              "  'Unitprice': 80},\n",
              " '1028': {'Category': 'Crockery',\n",
              "  'Prodname': 'Utensil',\n",
              "  'Qty': 60,\n",
              "  'Unitprice': 100},\n",
              " '1029': {'Category': 'Vegetable',\n",
              "  'Prodname': 'Cauliflower',\n",
              "  'Qty': 12,\n",
              "  'Unitprice': 59},\n",
              " '1030': {'Category': 'Fruit',\n",
              "  'Prodname': 'Apple',\n",
              "  'Qty': 70,\n",
              "  'Unitprice': 90},\n",
              " '1031': {'Category': 'Watch',\n",
              "  'Prodname': 'Sonata',\n",
              "  'Qty': 28,\n",
              "  'Unitprice': 280}}"
            ]
          },
          "metadata": {},
          "execution_count": 6
        }
      ]
    },
    {
      "cell_type": "code",
      "metadata": {
        "id": "6wfvkw7TSr9o",
        "colab": {
          "base_uri": "https://localhost:8080/"
        },
        "outputId": "cd04cd49-8043-4bc6-baf5-2a1fb73ca4ed"
      },
      "source": [
        " u_prod=input(\"Enter the product id:\")\n",
        " u_quan=int(input(\"Enter the Required Quantity:\"))\n",
        " u_name=input(\"Enter the name of the Customer:\")\n",
        "\n",
        " print(\"Product:\",Record[u_prod]['Prodname'])\n",
        " print(\"Category:\",Record[u_prod]['Category']) \n",
        " print(\"Price:\",Record[u_prod]['Unitprice'])  \n",
        " print(\"Billing Amount:\",  Record[u_prod]['Unitprice']* u_quan) \n",
        " print(\"---------------------------------\")\n",
        " print(\"<Amount Payable>\",Record[u_prod]['Unitprice']* u_quan)\n",
        " print(\"***************************************\")\n",
        " print(\"     THANKYOU VISIT AGAIN\")\n",
        " print(\"CHECK YOUR BILL BEFORE LEAVING THE SHOP\")\n",
        "\n",
        " Record[u_prod]['Qty']=Record[u_prod]['Qty']-u_quan"
      ],
      "execution_count": 105,
      "outputs": [
        {
          "output_type": "stream",
          "name": "stdout",
          "text": [
            "Enter the product id:1023\n",
            "Enter the Required Quantity:6\n",
            "Enter the name of the Customer:Benedict\n",
            "Product: Organic\n",
            "Category: Grocery\n",
            "Price: 120\n",
            "Billing Amount: 720\n",
            "---------------------------------\n",
            "<Amount Payable> 720\n",
            "***************************************\n",
            "     THANKYOU VISIT AGAIN\n",
            "CHECK YOUR BILL BEFORE LEAVING THE SHOP\n"
          ]
        }
      ]
    },
    {
      "cell_type": "code",
      "metadata": {
        "id": "b05UQrdbUgYA"
      },
      "source": [
        "\n",
        "Record\n"
      ],
      "execution_count": null,
      "outputs": []
    },
    {
      "cell_type": "code",
      "metadata": {
        "id": "JOKxRnSzyzJ9"
      },
      "source": [
        "js=json.dumps(Record)\n",
        "fd=open(\"Record.json\",'w')\n",
        "fd.write(js)\n",
        "fd.close()"
      ],
      "execution_count": 106,
      "outputs": []
    },
    {
      "cell_type": "markdown",
      "metadata": {
        "id": "Rbv8rBFx0XZV"
      },
      "source": [
        "### ***Sales*** **Report**"
      ]
    },
    {
      "cell_type": "code",
      "metadata": {
        "id": "4L1rNpyXNHkX"
      },
      "source": [
        "import json\n",
        "fd=open(\"Sales.json\",\"r\")\n",
        "sale=fd.read()\n",
        "fd.close()\n",
        "Sales=json.loads(sale)"
      ],
      "execution_count": 107,
      "outputs": []
    },
    {
      "cell_type": "code",
      "metadata": {
        "id": "AC9sBu2KC7AD"
      },
      "source": [
        "if (len(Sales)==0):\n",
        "  Sales={1:{\"Customer\":u_name,\"prod\":u_prod,\"Quantity\":u_quan,\"Amount\":Record[u_prod]['Unitprice']* u_quan}}\n",
        "else:\n",
        "  Sales[len(Sales)+1]={\"Customer\":u_name,\"prod\":u_prod,\"Quantity\":u_quan,\"Amount\":Record[u_prod]['Unitprice']* u_quan}"
      ],
      "execution_count": 108,
      "outputs": []
    },
    {
      "cell_type": "code",
      "metadata": {
        "colab": {
          "base_uri": "https://localhost:8080/"
        },
        "id": "gWnlirdoEoKP",
        "outputId": "4ba2e812-fd17-400d-ff0d-7bf61c7bec39"
      },
      "source": [
        "print(Sales)\n"
      ],
      "execution_count": 113,
      "outputs": [
        {
          "output_type": "stream",
          "name": "stdout",
          "text": [
            "{'1': {'Customer': 'Athira', 'prod': '1011', 'Quantity': 2, 'Amount': 340}, '2': {'Customer': 'Rahul', 'prod': '1019', 'Quantity': 1, 'Amount': 560}, '3': {'Customer': 'Ram', 'prod': '1025', 'Quantity': 1, 'Amount': 9}, '4': {'Customer': 'Anjali', 'prod': '1012', 'Quantity': 5, 'Amount': 150}, '5': {'Customer': 'Anujith', 'prod': '1006', 'Quantity': 3, 'Amount': 135}, '6': {'Customer': 'Akash', 'prod': '1029', 'Quantity': 1, 'Amount': 59}, '7': {'Customer': 'Aryan', 'prod': '1012', 'Quantity': 2, 'Amount': 60}, '8': {'Customer': 'Harry', 'prod': '1009', 'Quantity': 1, 'Amount': 120}, '9': {'Customer': 'John', 'prod': '1015', 'Quantity': 4, 'Amount': 180}, 10: {'Customer': 'Benedict', 'prod': '1023', 'Quantity': 6, 'Amount': 720}}\n"
          ]
        }
      ]
    },
    {
      "cell_type": "code",
      "metadata": {
        "id": "dgOyJdzzCpoM"
      },
      "source": [
        "Sale=json.dumps(Sales)\n",
        "fd=open(\"Sales.json\",'w')\n",
        "r=fd.write(Sale)\n",
        "fd.close()"
      ],
      "execution_count": 114,
      "outputs": []
    },
    {
      "cell_type": "code",
      "metadata": {
        "id": "lKo0k2gNJVe7",
        "colab": {
          "base_uri": "https://localhost:8080/"
        },
        "outputId": "e66d18ca-307e-4adf-c258-1b3082a2b4cf"
      },
      "source": [
        "Sales"
      ],
      "execution_count": 115,
      "outputs": [
        {
          "output_type": "execute_result",
          "data": {
            "text/plain": [
              "{'1': {'Amount': 340, 'Customer': 'Athira', 'Quantity': 2, 'prod': '1011'},\n",
              " 10: {'Amount': 720, 'Customer': 'Benedict', 'Quantity': 6, 'prod': '1023'},\n",
              " '2': {'Amount': 560, 'Customer': 'Rahul', 'Quantity': 1, 'prod': '1019'},\n",
              " '3': {'Amount': 9, 'Customer': 'Ram', 'Quantity': 1, 'prod': '1025'},\n",
              " '4': {'Amount': 150, 'Customer': 'Anjali', 'Quantity': 5, 'prod': '1012'},\n",
              " '5': {'Amount': 135, 'Customer': 'Anujith', 'Quantity': 3, 'prod': '1006'},\n",
              " '6': {'Amount': 59, 'Customer': 'Akash', 'Quantity': 1, 'prod': '1029'},\n",
              " '7': {'Amount': 60, 'Customer': 'Aryan', 'Quantity': 2, 'prod': '1012'},\n",
              " '8': {'Amount': 120, 'Customer': 'Harry', 'Quantity': 1, 'prod': '1009'},\n",
              " '9': {'Amount': 180, 'Customer': 'John', 'Quantity': 4, 'prod': '1015'}}"
            ]
          },
          "metadata": {},
          "execution_count": 115
        }
      ]
    },
    {
      "cell_type": "code",
      "metadata": {
        "id": "uXeA2p436rQx"
      },
      "source": [
        ""
      ],
      "execution_count": null,
      "outputs": []
    }
  ]
}