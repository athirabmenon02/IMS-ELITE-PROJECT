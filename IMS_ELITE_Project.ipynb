{
  "nbformat": 4,
  "nbformat_minor": 0,
  "metadata": {
    "colab": {
      "name": "IMS ELITE .ipynb",
      "provenance": [],
      "collapsed_sections": []
    },
    "kernelspec": {
      "name": "python3",
      "display_name": "Python 3"
    },
    "language_info": {
      "name": "python"
    }
  },
  "cells": [
    {
      "cell_type": "code",
      "metadata": {
        "id": "g3SF1xpg0bJE"
      },
      "source": [
        " #reading the already existing items\n",
        "fd=open(\"Record.json\",'r')\n",
        "rec=fd.read()\n",
        "fd.close()\n",
        "\n",
        "\n"
      ],
      "execution_count": null,
      "outputs": []
    },
    {
      "cell_type": "code",
      "metadata": {
        "id": "QVaHcCEG1neJ"
      },
      "source": [
        "# saving it to the variable Record as a string\n",
        "import json\n",
        "Record= json.loads(rec)\n"
      ],
      "execution_count": null,
      "outputs": []
    },
    {
      "cell_type": "code",
      "metadata": {
        "id": "caT9BxCl1tZs"
      },
      "source": [
        "Record"
      ],
      "execution_count": null,
      "outputs": []
    },
    {
      "cell_type": "markdown",
      "metadata": {
        "id": "AFBK0tl6ktwl"
      },
      "source": [
        "**Adding The Items to Existing Inventory**\n"
      ]
    },
    {
      "cell_type": "code",
      "metadata": {
        "id": "e_tO9agp3fuI"
      },
      "source": [
        "prod_id=input(\"Enter the ID:\")\n",
        "proname=input(\"Enter the Product:\")\n",
        "Qnty=int(input(\"Enter the Quantity:\"))\n",
        "Ctgry=input(\"Enter the category:\")\n",
        "Price=int(input(\"Enter the Price :\"))\n",
        "for i in Record.keys():\n",
        "    if(prod_id==i):\n",
        "        Record[prod_id]={'Category':Ctgry,'Prodname':proname,'Qty':Record[i][\"Qty\"]+Qnty,'Unitprice':Price}\n",
        "    else:\n",
        "        Record[prod_id]={'Category':Ctgry,'Prodname':proname,'Qty':Qnty,'UnitPrice':Price}\n",
        "\n"
      ],
      "execution_count": null,
      "outputs": []
    },
    {
      "cell_type": "code",
      "metadata": {
        "id": "YcmokgNakVvb"
      },
      "source": [
        "js=json.dumps(Record)\n",
        "fd=open(\"Record.json\",'w')\n",
        "fd.write(js)\n",
        "fd.close()"
      ],
      "execution_count": null,
      "outputs": []
    },
    {
      "cell_type": "code",
      "metadata": {
        "id": "oHlKn0F8Rye3"
      },
      "source": [
        "Record"
      ],
      "execution_count": null,
      "outputs": []
    },
    {
      "cell_type": "code",
      "metadata": {
        "id": "6wfvkw7TSr9o",
        "colab": {
          "base_uri": "https://localhost:8080/"
        },
        "outputId": "cd04cd49-8043-4bc6-baf5-2a1fb73ca4ed"
      },
      "source": [
        " u_prod=input(\"Enter the product id:\")\n",
        " u_quan=int(input(\"Enter the Required Quantity:\"))\n",
        " u_name=input(\"Enter the name of the Customer:\")\n",
        "\n",
        " print(\"Product:\",Record[u_prod]['Prodname'])\n",
        " print(\"Category:\",Record[u_prod]['Category']) \n",
        " print(\"Price:\",Record[u_prod]['Unitprice'])  \n",
        " print(\"Billing Amount:\",  Record[u_prod]['Unitprice']* u_quan) \n",
        " print(\"---------------------------------\")\n",
        " print(\"<Amount Payable>\",Record[u_prod]['Unitprice']* u_quan)\n",
        " print(\"***************************************\")\n",
        " print(\"     THANKYOU VISIT AGAIN\")\n",
        " print(\"CHECK YOUR BILL BEFORE LEAVING THE SHOP\")\n",
        "\n",
        " Record[u_prod]['Qty']=Record[u_prod]['Qty']-u_quan"
      ],
      "execution_count": null,
      "outputs": [
        {
          "output_type": "stream",
          "name": "stdout",
          "text": [
            "Enter the product id:1023\n",
            "Enter the Required Quantity:6\n",
            "Enter the name of the Customer:Benedict\n",
            "Product: Organic\n",
            "Category: Grocery\n",
            "Price: 120\n",
            "Billing Amount: 720\n",
            "---------------------------------\n",
            "<Amount Payable> 720\n",
            "***************************************\n",
            "     THANKYOU VISIT AGAIN\n",
            "CHECK YOUR BILL BEFORE LEAVING THE SHOP\n"
          ]
        }
      ]
    },
    {
      "cell_type": "code",
      "metadata": {
        "id": "b05UQrdbUgYA"
      },
      "source": [
        "\n",
        "Record\n"
      ],
      "execution_count": null,
      "outputs": []
    },
    {
      "cell_type": "code",
      "metadata": {
        "id": "JOKxRnSzyzJ9"
      },
      "source": [
        "js=json.dumps(Record)\n",
        "fd=open(\"Record.json\",'w')\n",
        "fd.write(js)\n",
        "fd.close()"
      ],
      "execution_count": null,
      "outputs": []
    },
    {
      "cell_type": "markdown",
      "metadata": {
        "id": "Rbv8rBFx0XZV"
      },
      "source": [
        "### ***Sales*** **Report**"
      ]
    },
    {
      "cell_type": "code",
      "metadata": {
        "id": "4L1rNpyXNHkX"
      },
      "source": [
        "import json\n",
        "fd=open(\"Sales.json\",\"r\")\n",
        "sale=fd.read()\n",
        "fd.close()\n",
        "Sales=json.loads(sale)"
      ],
      "execution_count": null,
      "outputs": []
    },
    {
      "cell_type": "code",
      "metadata": {
        "id": "AC9sBu2KC7AD"
      },
      "source": [
        "if (len(Sales)==0):\n",
        "  Sales={1:{\"Customer\":u_name,\"prod\":u_prod,\"Quantity\":u_quan,\"Amount\":Record[u_prod]['Unitprice']* u_quan}}\n",
        "else:\n",
        "  Sales[len(Sales)+1]={\"Customer\":u_name,\"prod\":u_prod,\"Quantity\":u_quan,\"Amount\":Record[u_prod]['Unitprice']* u_quan}"
      ],
      "execution_count": null,
      "outputs": []
    },
    {
      "cell_type": "code",
      "metadata": {
        "colab": {
          "base_uri": "https://localhost:8080/"
        },
        "id": "gWnlirdoEoKP",
        "outputId": "4ba2e812-fd17-400d-ff0d-7bf61c7bec39"
      },
      "source": [
        "print(Sales)\n"
      ],
      "execution_count": null,
      "outputs": [
        {
          "output_type": "stream",
          "name": "stdout",
          "text": [
            "{'1': {'Customer': 'Athira', 'prod': '1011', 'Quantity': 2, 'Amount': 340}, '2': {'Customer': 'Rahul', 'prod': '1019', 'Quantity': 1, 'Amount': 560}, '3': {'Customer': 'Ram', 'prod': '1025', 'Quantity': 1, 'Amount': 9}, '4': {'Customer': 'Anjali', 'prod': '1012', 'Quantity': 5, 'Amount': 150}, '5': {'Customer': 'Anujith', 'prod': '1006', 'Quantity': 3, 'Amount': 135}, '6': {'Customer': 'Akash', 'prod': '1029', 'Quantity': 1, 'Amount': 59}, '7': {'Customer': 'Aryan', 'prod': '1012', 'Quantity': 2, 'Amount': 60}, '8': {'Customer': 'Harry', 'prod': '1009', 'Quantity': 1, 'Amount': 120}, '9': {'Customer': 'John', 'prod': '1015', 'Quantity': 4, 'Amount': 180}, 10: {'Customer': 'Benedict', 'prod': '1023', 'Quantity': 6, 'Amount': 720}}\n"
          ]
        }
      ]
    },
    {
      "cell_type": "code",
      "metadata": {
        "id": "dgOyJdzzCpoM"
      },
      "source": [
        "Sale=json.dumps(Sales)\n",
        "fd=open(\"Sales.json\",'w')\n",
        "r=fd.write(Sale)\n",
        "fd.close()"
      ],
      "execution_count": null,
      "outputs": []
    },
    {
      "cell_type": "code",
      "metadata": {
        "id": "lKo0k2gNJVe7",
        "colab": {
          "base_uri": "https://localhost:8080/"
        },
        "outputId": "e66d18ca-307e-4adf-c258-1b3082a2b4cf"
      },
      "source": [
        "Sales"
      ],
      "execution_count": null,
      "outputs": [
        {
          "output_type": "execute_result",
          "data": {
            "text/plain": [
              "{'1': {'Amount': 340, 'Customer': 'Athira', 'Quantity': 2, 'prod': '1011'},\n",
              " 10: {'Amount': 720, 'Customer': 'Benedict', 'Quantity': 6, 'prod': '1023'},\n",
              " '2': {'Amount': 560, 'Customer': 'Rahul', 'Quantity': 1, 'prod': '1019'},\n",
              " '3': {'Amount': 9, 'Customer': 'Ram', 'Quantity': 1, 'prod': '1025'},\n",
              " '4': {'Amount': 150, 'Customer': 'Anjali', 'Quantity': 5, 'prod': '1012'},\n",
              " '5': {'Amount': 135, 'Customer': 'Anujith', 'Quantity': 3, 'prod': '1006'},\n",
              " '6': {'Amount': 59, 'Customer': 'Akash', 'Quantity': 1, 'prod': '1029'},\n",
              " '7': {'Amount': 60, 'Customer': 'Aryan', 'Quantity': 2, 'prod': '1012'},\n",
              " '8': {'Amount': 120, 'Customer': 'Harry', 'Quantity': 1, 'prod': '1009'},\n",
              " '9': {'Amount': 180, 'Customer': 'John', 'Quantity': 4, 'prod': '1015'}}"
            ]
          },
          "metadata": {},
          "execution_count": 115
        }
      ]
    },
    {
      "cell_type": "code",
      "metadata": {
        "id": "uXeA2p436rQx"
      },
      "source": [
        ""
      ],
      "execution_count": null,
      "outputs": []
    }
  ]
}